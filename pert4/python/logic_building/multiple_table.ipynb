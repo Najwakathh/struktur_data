{
 "cells": [
  {
   "cell_type": "code",
   "execution_count": 9,
   "id": "c9df764d",
   "metadata": {},
   "outputs": [
    {
     "name": "stdout",
     "output_type": "stream",
     "text": [
      "10\n",
      "najwa\n",
      "156\n"
     ]
    }
   ],
   "source": [
    "angka = 10\n",
    "nama = \"najwa\"\n",
    "tinggi = 156\n",
    "\n",
    "print(angka)\n",
    "print(nama)\n",
    "print(tinggi)"
   ]
  },
  {
   "cell_type": "code",
   "execution_count": 6,
   "id": "f8462f5c",
   "metadata": {},
   "outputs": [
    {
     "name": "stdout",
     "output_type": "stream",
     "text": [
      "x lebih besar dari 3\n"
     ]
    }
   ],
   "source": [
    "x = 5\n",
    "if x > 3:\n",
    "    print(\"x lebih besar dari 3\")\n",
    "else:\n",
    "    print(\"x tidak lebih besar dari 3\")"
   ]
  },
  {
   "cell_type": "code",
   "execution_count": 5,
   "id": "28ab3263",
   "metadata": {},
   "outputs": [
    {
     "name": "stdout",
     "output_type": "stream",
     "text": [
      "6\n"
     ]
    }
   ],
   "source": [
    "array = [1,2,4,6,8,9]\n",
    "print(array[3])"
   ]
  },
  {
   "cell_type": "code",
   "execution_count": 4,
   "id": "f3779c02",
   "metadata": {},
   "outputs": [
    {
     "name": "stdout",
     "output_type": "stream",
     "text": [
      "Angka yang dimasukkan: [8]\n",
      "Urutan dari kecil ke besar: [8]\n",
      "Urutan dari besar ke kecil: [8]\n",
      "Angka yang dimasukkan: [8, 2]\n",
      "Urutan dari kecil ke besar: [2, 8]\n",
      "Urutan dari besar ke kecil: [8, 2]\n",
      "Angka yang dimasukkan: [8, 2, 3]\n",
      "Urutan dari kecil ke besar: [2, 3, 8]\n",
      "Urutan dari besar ke kecil: [8, 3, 2]\n",
      "Angka yang dimasukkan: [8, 3, 2, 1]\n",
      "Urutan dari kecil ke besar: [1, 2, 3, 8]\n",
      "Urutan dari besar ke kecil: [8, 3, 2, 1]\n"
     ]
    }
   ],
   "source": [
    "angka = []\n",
    "for i in range(4):\n",
    "    Masukkan = int(input(f\"Masukkan angka ke-{i+1}: \"))\n",
    "    angka.append(Masukkan)\n",
    "\n",
    "    print(\"Angka yang dimasukkan:\", angka)\n",
    "    angka.sort()\n",
    "    print(\"Urutan dari kecil ke besar:\", angka)\n",
    "    angka.sort(reverse=True)\n",
    "    print(\"Urutan dari besar ke kecil:\", angka)"
   ]
  },
  {
   "cell_type": "code",
   "execution_count": 3,
   "id": "1824aec9",
   "metadata": {},
   "outputs": [
    {
     "name": "stdout",
     "output_type": "stream",
     "text": [
      "5\n",
      "10\n",
      "15\n",
      "20\n",
      "25\n",
      "30\n",
      "35\n",
      "40\n",
      "45\n",
      "50\n"
     ]
    }
   ],
   "source": [
    "for i in range(1, 11):\n",
    "    print(5*i)"
   ]
  },
  {
   "cell_type": "code",
   "execution_count": 1,
   "id": "5150cc5b",
   "metadata": {},
   "outputs": [],
   "source": [
    "def printTable(n):\n",
    "\n",
    "    for i in range (1, 11): \n",
    "        \n",
    "        # multiples from 1 to 10\n",
    "        print (\"%d * %d = %d\" % (n, i, n * i))"
   ]
  },
  {
   "cell_type": "code",
   "execution_count": 2,
   "id": "56a025cb",
   "metadata": {},
   "outputs": [
    {
     "name": "stdout",
     "output_type": "stream",
     "text": [
      "5 * 1 = 5\n",
      "5 * 2 = 10\n",
      "5 * 3 = 15\n",
      "5 * 4 = 20\n",
      "5 * 5 = 25\n",
      "5 * 6 = 30\n",
      "5 * 7 = 35\n",
      "5 * 8 = 40\n",
      "5 * 9 = 45\n",
      "5 * 10 = 50\n"
     ]
    }
   ],
   "source": [
    "n = 5\n",
    "printTable(n)"
   ]
  }
 ],
 "metadata": {
  "kernelspec": {
   "display_name": "Python 3",
   "language": "python",
   "name": "python3"
  },
  "language_info": {
   "codemirror_mode": {
    "name": "ipython",
    "version": 3
   },
   "file_extension": ".py",
   "mimetype": "text/x-python",
   "name": "python",
   "nbconvert_exporter": "python",
   "pygments_lexer": "ipython3",
   "version": "3.10.12"
  }
 },
 "nbformat": 4,
 "nbformat_minor": 5
}
