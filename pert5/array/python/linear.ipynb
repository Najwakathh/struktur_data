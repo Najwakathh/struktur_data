{
 "cells": [
  {
   "cell_type": "code",
   "execution_count": null,
   "id": "86459d2a",
   "metadata": {},
   "outputs": [
    {
     "ename": "SyntaxError",
     "evalue": "invalid syntax (1629527199.py, line 1)",
     "output_type": "error",
     "traceback": [
      "\u001b[0;36m  Cell \u001b[0;32mIn[1], line 1\u001b[0;36m\u001b[0m\n\u001b[0;31m    def is(arr, target):\u001b[0m\n\u001b[0m        ^\u001b[0m\n\u001b[0;31mSyntaxError\u001b[0m\u001b[0;31m:\u001b[0m invalid syntax\n"
     ]
    }
   ],
   "source": [
    "def is(arr, target):\n",
    "    for i in range(len(arr)):\n",
    "        if arr[i] == target :\n",
    "            return i\n",
    "        return -i\n",
    "\n",
    "data = [1, 3, 7, 5]\n",
    "target = 5\n",
    "result = is(data, target)\n",
    "if result == -1\n",
    "    print(\"not found\")\n",
    "else :\n",
    "    print(f\"found di index ke - : {result}\")"
   ]
  }
 ],
 "metadata": {
  "kernelspec": {
   "display_name": "Python 3",
   "language": "python",
   "name": "python3"
  },
  "language_info": {
   "codemirror_mode": {
    "name": "ipython",
    "version": 3
   },
   "file_extension": ".py",
   "mimetype": "text/x-python",
   "name": "python",
   "nbconvert_exporter": "python",
   "pygments_lexer": "ipython3",
   "version": "3.10.12"
  }
 },
 "nbformat": 4,
 "nbformat_minor": 5
}
